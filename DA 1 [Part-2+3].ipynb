{
 "cells": [
  {
   "cell_type": "markdown",
   "metadata": {},
   "source": [
    "                                                            DA-1\n",
    "\n",
    "\n",
    "\n",
    "                                                   ## NAME - Mitali Chauhan\n",
    "                                                   ## REG. NO. - 18BCE7178\n",
    "                                                     (PART-2 and PART-3)"
   ]
  },
  {
   "cell_type": "markdown",
   "metadata": {},
   "source": [
    "### Importing libraries and packages"
   ]
  },
  {
   "cell_type": "code",
   "execution_count": 86,
   "metadata": {},
   "outputs": [],
   "source": [
    "\n",
    "import numpy as np\n",
    "import pandas as pd\n",
    "import matplotlib.pyplot as plt\n",
    "from sklearn.model_selection import train_test_split\n",
    "%matplotlib inline"
   ]
  },
  {
   "cell_type": "markdown",
   "metadata": {},
   "source": [
    "# 11. Repeated steps from 1 to 7:\n",
    "### 1. Create a dataset with the content of the file\n",
    "### 2. Drop columns titled Name, SMILES and KOW type"
   ]
  },
  {
   "cell_type": "code",
   "execution_count": 87,
   "metadata": {},
   "outputs": [
    {
     "data": {
      "text/html": [
       "<div>\n",
       "<style scoped>\n",
       "    .dataframe tbody tr th:only-of-type {\n",
       "        vertical-align: middle;\n",
       "    }\n",
       "\n",
       "    .dataframe tbody tr th {\n",
       "        vertical-align: top;\n",
       "    }\n",
       "\n",
       "    .dataframe thead th {\n",
       "        text-align: right;\n",
       "    }\n",
       "</style>\n",
       "<table border=\"1\" class=\"dataframe\">\n",
       "  <thead>\n",
       "    <tr style=\"text-align: right;\">\n",
       "      <th></th>\n",
       "      <th>CAS</th>\n",
       "      <th>LogKOW</th>\n",
       "      <th>logBCF</th>\n",
       "    </tr>\n",
       "  </thead>\n",
       "  <tbody>\n",
       "    <tr>\n",
       "      <th>0</th>\n",
       "      <td>105-67-9</td>\n",
       "      <td>2.30</td>\n",
       "      <td>1.18</td>\n",
       "    </tr>\n",
       "    <tr>\n",
       "      <th>1</th>\n",
       "      <td>108-39-4</td>\n",
       "      <td>1.96</td>\n",
       "      <td>1.03</td>\n",
       "    </tr>\n",
       "    <tr>\n",
       "      <th>2</th>\n",
       "      <td>113136-77-9</td>\n",
       "      <td>1.98</td>\n",
       "      <td>-0.40</td>\n",
       "    </tr>\n",
       "    <tr>\n",
       "      <th>3</th>\n",
       "      <td>114311-32-9</td>\n",
       "      <td>1.02</td>\n",
       "      <td>-1.00</td>\n",
       "    </tr>\n",
       "    <tr>\n",
       "      <th>4</th>\n",
       "      <td>1689-84-5</td>\n",
       "      <td>2.99</td>\n",
       "      <td>0.84</td>\n",
       "    </tr>\n",
       "    <tr>\n",
       "      <th>...</th>\n",
       "      <td>...</td>\n",
       "      <td>...</td>\n",
       "      <td>...</td>\n",
       "    </tr>\n",
       "    <tr>\n",
       "      <th>1049</th>\n",
       "      <td>V-Mey_NA_04</td>\n",
       "      <td>6.46</td>\n",
       "      <td>3.71</td>\n",
       "    </tr>\n",
       "    <tr>\n",
       "      <th>1050</th>\n",
       "      <td>V-Mey_NA_05</td>\n",
       "      <td>6.51</td>\n",
       "      <td>3.92</td>\n",
       "    </tr>\n",
       "    <tr>\n",
       "      <th>1051</th>\n",
       "      <td>V-Mey_NA_06</td>\n",
       "      <td>8.21</td>\n",
       "      <td>3.76</td>\n",
       "    </tr>\n",
       "    <tr>\n",
       "      <th>1052</th>\n",
       "      <td>V-Mey_NA_07</td>\n",
       "      <td>9.14</td>\n",
       "      <td>3.19</td>\n",
       "    </tr>\n",
       "    <tr>\n",
       "      <th>1053</th>\n",
       "      <td>V-Mey_NA_08</td>\n",
       "      <td>9.14</td>\n",
       "      <td>2.85</td>\n",
       "    </tr>\n",
       "  </tbody>\n",
       "</table>\n",
       "<p>1054 rows × 3 columns</p>\n",
       "</div>"
      ],
      "text/plain": [
       "               CAS  LogKOW  logBCF\n",
       "0         105-67-9    2.30    1.18\n",
       "1         108-39-4    1.96    1.03\n",
       "2      113136-77-9    1.98   -0.40\n",
       "3      114311-32-9    1.02   -1.00\n",
       "4        1689-84-5    2.99    0.84\n",
       "...            ...     ...     ...\n",
       "1049   V-Mey_NA_04    6.46    3.71\n",
       "1050   V-Mey_NA_05    6.51    3.92\n",
       "1051   V-Mey_NA_06    8.21    3.76\n",
       "1052   V-Mey_NA_07    9.14    3.19\n",
       "1053   V-Mey_NA_08    9.14    2.85\n",
       "\n",
       "[1054 rows x 3 columns]"
      ]
     },
     "execution_count": 87,
     "metadata": {},
     "output_type": "execute_result"
    }
   ],
   "source": [
    "#importing dataset and dropping columns named Name,SMILES, KOW type\n",
    "\n",
    "dataset=pd.read_csv('Documents\\QSAR_BCF_Kow.csv')\n",
    "DS=dataset.drop(columns=['Name','SMILES','KOW type'])\n",
    "DS\n"
   ]
  },
  {
   "cell_type": "markdown",
   "metadata": {},
   "source": [
    "### 3. Remove the values in column titled “LogKOW” corresponding to the values starting with V-Mey_NA in the column titled “CAS”."
   ]
  },
  {
   "cell_type": "code",
   "execution_count": 88,
   "metadata": {},
   "outputs": [
    {
     "name": "stderr",
     "output_type": "stream",
     "text": [
      "C:\\Users\\robin\\anaconda3\\lib\\site-packages\\ipykernel_launcher.py:6: SettingWithCopyWarning: \n",
      "A value is trying to be set on a copy of a slice from a DataFrame\n",
      "\n",
      "See the caveats in the documentation: https://pandas.pydata.org/pandas-docs/stable/user_guide/indexing.html#returning-a-view-versus-a-copy\n",
      "  \n"
     ]
    },
    {
     "data": {
      "text/html": [
       "<div>\n",
       "<style scoped>\n",
       "    .dataframe tbody tr th:only-of-type {\n",
       "        vertical-align: middle;\n",
       "    }\n",
       "\n",
       "    .dataframe tbody tr th {\n",
       "        vertical-align: top;\n",
       "    }\n",
       "\n",
       "    .dataframe thead th {\n",
       "        text-align: right;\n",
       "    }\n",
       "</style>\n",
       "<table border=\"1\" class=\"dataframe\">\n",
       "  <thead>\n",
       "    <tr style=\"text-align: right;\">\n",
       "      <th></th>\n",
       "      <th>CAS</th>\n",
       "      <th>LogKOW</th>\n",
       "      <th>logBCF</th>\n",
       "    </tr>\n",
       "  </thead>\n",
       "  <tbody>\n",
       "    <tr>\n",
       "      <th>0</th>\n",
       "      <td>105-67-9</td>\n",
       "      <td>2.30</td>\n",
       "      <td>1.18</td>\n",
       "    </tr>\n",
       "    <tr>\n",
       "      <th>1</th>\n",
       "      <td>108-39-4</td>\n",
       "      <td>1.96</td>\n",
       "      <td>1.03</td>\n",
       "    </tr>\n",
       "    <tr>\n",
       "      <th>2</th>\n",
       "      <td>113136-77-9</td>\n",
       "      <td>1.98</td>\n",
       "      <td>-0.40</td>\n",
       "    </tr>\n",
       "    <tr>\n",
       "      <th>3</th>\n",
       "      <td>114311-32-9</td>\n",
       "      <td>1.02</td>\n",
       "      <td>-1.00</td>\n",
       "    </tr>\n",
       "    <tr>\n",
       "      <th>4</th>\n",
       "      <td>1689-84-5</td>\n",
       "      <td>2.99</td>\n",
       "      <td>0.84</td>\n",
       "    </tr>\n",
       "    <tr>\n",
       "      <th>...</th>\n",
       "      <td>...</td>\n",
       "      <td>...</td>\n",
       "      <td>...</td>\n",
       "    </tr>\n",
       "    <tr>\n",
       "      <th>1049</th>\n",
       "      <td>V-Mey_NA_04</td>\n",
       "      <td>NaN</td>\n",
       "      <td>3.71</td>\n",
       "    </tr>\n",
       "    <tr>\n",
       "      <th>1050</th>\n",
       "      <td>V-Mey_NA_05</td>\n",
       "      <td>NaN</td>\n",
       "      <td>3.92</td>\n",
       "    </tr>\n",
       "    <tr>\n",
       "      <th>1051</th>\n",
       "      <td>V-Mey_NA_06</td>\n",
       "      <td>NaN</td>\n",
       "      <td>3.76</td>\n",
       "    </tr>\n",
       "    <tr>\n",
       "      <th>1052</th>\n",
       "      <td>V-Mey_NA_07</td>\n",
       "      <td>NaN</td>\n",
       "      <td>3.19</td>\n",
       "    </tr>\n",
       "    <tr>\n",
       "      <th>1053</th>\n",
       "      <td>V-Mey_NA_08</td>\n",
       "      <td>NaN</td>\n",
       "      <td>2.85</td>\n",
       "    </tr>\n",
       "  </tbody>\n",
       "</table>\n",
       "<p>1054 rows × 3 columns</p>\n",
       "</div>"
      ],
      "text/plain": [
       "               CAS  LogKOW  logBCF\n",
       "0         105-67-9    2.30    1.18\n",
       "1         108-39-4    1.96    1.03\n",
       "2      113136-77-9    1.98   -0.40\n",
       "3      114311-32-9    1.02   -1.00\n",
       "4        1689-84-5    2.99    0.84\n",
       "...            ...     ...     ...\n",
       "1049   V-Mey_NA_04     NaN    3.71\n",
       "1050   V-Mey_NA_05     NaN    3.92\n",
       "1051   V-Mey_NA_06     NaN    3.76\n",
       "1052   V-Mey_NA_07     NaN    3.19\n",
       "1053   V-Mey_NA_08     NaN    2.85\n",
       "\n",
       "[1054 rows x 3 columns]"
      ]
     },
     "execution_count": 88,
     "metadata": {},
     "output_type": "execute_result"
    }
   ],
   "source": [
    "#Updating LogKOW values based on CAS values('V_MEY_NA')\n",
    "c=0\n",
    "for i in DS['CAS']:\n",
    "    c+=1\n",
    "    if i[0:8]== 'V-Mey_NA':\n",
    "        DS['LogKOW'][c] = np.NaN\n",
    "DS"
   ]
  },
  {
   "cell_type": "markdown",
   "metadata": {},
   "source": [
    "### 4. Check for missing values. If available, fill it with zeros, ones and mean of column.\n",
    "### 5. Remove the column titled “CAS”."
   ]
  },
  {
   "cell_type": "code",
   "execution_count": 89,
   "metadata": {},
   "outputs": [
    {
     "data": {
      "text/html": [
       "<div>\n",
       "<style scoped>\n",
       "    .dataframe tbody tr th:only-of-type {\n",
       "        vertical-align: middle;\n",
       "    }\n",
       "\n",
       "    .dataframe tbody tr th {\n",
       "        vertical-align: top;\n",
       "    }\n",
       "\n",
       "    .dataframe thead th {\n",
       "        text-align: right;\n",
       "    }\n",
       "</style>\n",
       "<table border=\"1\" class=\"dataframe\">\n",
       "  <thead>\n",
       "    <tr style=\"text-align: right;\">\n",
       "      <th></th>\n",
       "      <th>LogKOW</th>\n",
       "      <th>logBCF</th>\n",
       "    </tr>\n",
       "  </thead>\n",
       "  <tbody>\n",
       "    <tr>\n",
       "      <th>0</th>\n",
       "      <td>2.300000</td>\n",
       "      <td>1.18</td>\n",
       "    </tr>\n",
       "    <tr>\n",
       "      <th>1</th>\n",
       "      <td>1.960000</td>\n",
       "      <td>1.03</td>\n",
       "    </tr>\n",
       "    <tr>\n",
       "      <th>2</th>\n",
       "      <td>1.980000</td>\n",
       "      <td>-0.40</td>\n",
       "    </tr>\n",
       "    <tr>\n",
       "      <th>3</th>\n",
       "      <td>1.020000</td>\n",
       "      <td>-1.00</td>\n",
       "    </tr>\n",
       "    <tr>\n",
       "      <th>4</th>\n",
       "      <td>2.990000</td>\n",
       "      <td>0.84</td>\n",
       "    </tr>\n",
       "    <tr>\n",
       "      <th>...</th>\n",
       "      <td>...</td>\n",
       "      <td>...</td>\n",
       "    </tr>\n",
       "    <tr>\n",
       "      <th>1049</th>\n",
       "      <td>3.839312</td>\n",
       "      <td>3.71</td>\n",
       "    </tr>\n",
       "    <tr>\n",
       "      <th>1050</th>\n",
       "      <td>3.839312</td>\n",
       "      <td>3.92</td>\n",
       "    </tr>\n",
       "    <tr>\n",
       "      <th>1051</th>\n",
       "      <td>3.839312</td>\n",
       "      <td>3.76</td>\n",
       "    </tr>\n",
       "    <tr>\n",
       "      <th>1052</th>\n",
       "      <td>3.839312</td>\n",
       "      <td>3.19</td>\n",
       "    </tr>\n",
       "    <tr>\n",
       "      <th>1053</th>\n",
       "      <td>3.839312</td>\n",
       "      <td>2.85</td>\n",
       "    </tr>\n",
       "  </tbody>\n",
       "</table>\n",
       "<p>1054 rows × 2 columns</p>\n",
       "</div>"
      ],
      "text/plain": [
       "        LogKOW  logBCF\n",
       "0     2.300000    1.18\n",
       "1     1.960000    1.03\n",
       "2     1.980000   -0.40\n",
       "3     1.020000   -1.00\n",
       "4     2.990000    0.84\n",
       "...        ...     ...\n",
       "1049  3.839312    3.71\n",
       "1050  3.839312    3.92\n",
       "1051  3.839312    3.76\n",
       "1052  3.839312    3.19\n",
       "1053  3.839312    2.85\n",
       "\n",
       "[1054 rows x 2 columns]"
      ]
     },
     "execution_count": 89,
     "metadata": {},
     "output_type": "execute_result"
    }
   ],
   "source": [
    "#fitting mean values into NaN values\n",
    "x=DS['LogKOW'].mean()\n",
    "DS=DS.fillna(value=x)\n",
    "DS=DS.drop(columns=['CAS'])\n",
    "DS"
   ]
  },
  {
   "cell_type": "markdown",
   "metadata": {},
   "source": [
    "### 6. Normalize the values using min-max normalization."
   ]
  },
  {
   "cell_type": "code",
   "execution_count": 90,
   "metadata": {},
   "outputs": [],
   "source": [
    "#max min normalization of two data columns\n",
    "DS['LogKOW']=((DS['LogKOW']-DS['LogKOW'].min())/(DS['LogKOW'].max()-DS['LogKOW'].min()))\n",
    "DS['logBCF']=((DS['logBCF']-DS['logBCF'].min())/(DS['logBCF'].max()-DS['logBCF'].min()))"
   ]
  },
  {
   "cell_type": "markdown",
   "metadata": {},
   "source": [
    "### 7. Perform linearity analysis on the resultant dataset."
   ]
  },
  {
   "cell_type": "code",
   "execution_count": 91,
   "metadata": {},
   "outputs": [
    {
     "data": {
      "image/png": "[encoded data removed]",
      "text/plain": [
       "<Figure size 432x288 with 1 Axes>"
      ]
     },
     "metadata": {
      "needs_background": "light"
     },
     "output_type": "display_data"
    }
   ],
   "source": [
    "# Scatter Plot\n",
    "plt.scatter(DS['LogKOW'],DS['logBCF'],s=7,c='g',marker='o')\n",
    "plt.title(\"QSAR fish bioconcentration (LogKOW vs LogBCF)\")\n",
    "plt.xlabel(\"LogKOW -> \")\n",
    "plt.ylabel(\"LogBCF -> \")\n",
    "\n",
    "plt.show()"
   ]
  },
  {
   "cell_type": "code",
   "execution_count": 92,
   "metadata": {},
   "outputs": [
    {
     "data": {
      "text/html": [
       "<div>\n",
       "<style scoped>\n",
       "    .dataframe tbody tr th:only-of-type {\n",
       "        vertical-align: middle;\n",
       "    }\n",
       "\n",
       "    .dataframe tbody tr th {\n",
       "        vertical-align: top;\n",
       "    }\n",
       "\n",
       "    .dataframe thead th {\n",
       "        text-align: right;\n",
       "    }\n",
       "</style>\n",
       "<table border=\"1\" class=\"dataframe\">\n",
       "  <thead>\n",
       "    <tr style=\"text-align: right;\">\n",
       "      <th></th>\n",
       "      <th>LogKOW</th>\n",
       "      <th>logBCF</th>\n",
       "    </tr>\n",
       "  </thead>\n",
       "  <tbody>\n",
       "    <tr>\n",
       "      <th>LogKOW</th>\n",
       "      <td>1.000000</td>\n",
       "      <td>0.664487</td>\n",
       "    </tr>\n",
       "    <tr>\n",
       "      <th>logBCF</th>\n",
       "      <td>0.664487</td>\n",
       "      <td>1.000000</td>\n",
       "    </tr>\n",
       "  </tbody>\n",
       "</table>\n",
       "</div>"
      ],
      "text/plain": [
       "          LogKOW    logBCF\n",
       "LogKOW  1.000000  0.664487\n",
       "logBCF  0.664487  1.000000"
      ]
     },
     "execution_count": 92,
     "metadata": {},
     "output_type": "execute_result"
    },
    {
     "data": {
      "image/png": "[encoded data removed]",
      "text/plain": [
       "<Figure size 432x288 with 2 Axes>"
      ]
     },
     "metadata": {
      "needs_background": "light"
     },
     "output_type": "display_data"
    }
   ],
   "source": [
    "import seaborn as sb\n",
    "data_corr = DS.corr()\n",
    "sb.heatmap(data_corr,annot=True)\n",
    "data_corr\n"
   ]
  },
  {
   "cell_type": "markdown",
   "metadata": {},
   "source": [
    "### 12. Divide the dataset into having 750 and 308 rows. \n",
    "\n",
    "### 13. Store the data for 750 rows in train_x and train_y lists. & 14. Store the data for 308 rows in test_x and actual_y."
   ]
  },
  {
   "cell_type": "code",
   "execution_count": 93,
   "metadata": {},
   "outputs": [
    {
     "name": "stdout",
     "output_type": "stream",
     "text": [
      "Coefficients:  [[1.1325953]]\n",
      "Intercept:  [0.08748707]\n"
     ]
    }
   ],
   "source": [
    "from sklearn import linear_model\n",
    "regress = linear_model.LinearRegression()\n",
    "\n",
    "DS1=DS.iloc[:750,:]\n",
    "DS2=DS.iloc[750:,:]\n",
    "\n",
    "train_x = np.asanyarray(DS1[['LogKOW']])\n",
    "train_y = np.asanyarray(DS1[['logBCF']])\n",
    "\n",
    "test_x=np.asanyarray(DS2[['LogKOW']])\n",
    "actual_y=np.asanyarray(DS2[['logBCF']])\n",
    "\n",
    "regress.fit (train_x,train_y)\n",
    "# The coefficients\n",
    "print ('Coefficients: ', regress.coef_)\n",
    "print ('Intercept: ',regress.intercept_)"
   ]
  },
  {
   "cell_type": "markdown",
   "metadata": {},
   "source": [
    "### 15. Predict the value of y, dependent value using the calculated m and c values and store in predicted_y.\n",
    "### 16. Compare the difference between actual_y and predicted_y.\n"
   ]
  },
  {
   "cell_type": "code",
   "execution_count": 117,
   "metadata": {},
   "outputs": [
    {
     "name": "stdout",
     "output_type": "stream",
     "text": [
      "[0.65206186] [0.52126854]\n",
      "[0.52319588] [0.45843103]\n",
      "[0.48195876] [0.46856611]\n",
      "[0.29896907] [0.63782197]\n",
      "[0.69587629] [0.55015352]\n",
      "[0.5193299] [0.45184323]\n",
      "[0.62371134] [0.50251864]\n",
      "[0.45618557] [0.57802499]\n",
      "[0.57860825] [0.53900493]\n",
      "[0.56185567] [0.56890342]\n",
      "[0.52190722] [0.53444414]\n",
      "[0.21907216] [0.29525623]\n",
      "[0.47293814] [0.51569424]\n",
      "[0.43170103] [0.47768769]\n",
      "[0.70618557] [0.52126854]\n",
      "[0.30798969] [0.52228204]\n",
      "[0.30025773] [0.50049162]\n",
      "[0.24613402] [0.31806016]\n",
      "[0.61597938] [0.6363017]\n",
      "[0.6507732] [0.61552479]\n",
      "[0.50257732] [0.59525463]\n",
      "[0.73324742] [0.61147076]\n",
      "[0.80412371] [0.59474787]\n",
      "[0.66365979] [0.6915379]\n",
      "[0.60953608] [0.54001844]\n",
      "[0.34278351] [0.39001924]\n",
      "[0.26417526] [0.22177689]\n",
      "[0.53092784] [0.49998487]\n",
      "[0.55283505] [0.49795785]\n",
      "[0.69845361] [0.63782197]\n",
      "[0.14819588] [0.3043778]\n",
      "[0.64304124] [0.63984898]\n",
      "[0.20489691] [0.23900653]\n",
      "[0.56701031] [0.59170735]\n",
      "[0.6378866] [0.5734642]\n",
      "[0.56829897] [0.50809293]\n",
      "[0.69458763] [0.52734958]\n",
      "[0.44974227] [0.35758698]\n",
      "[0.32989691] [0.40116783]\n",
      "[0.37757732] [0.49542408]\n",
      "[0.77706186] [0.57498446]\n",
      "[0.68298969] [0.6043762]\n",
      "[0.48969072] [0.67228124]\n",
      "[0.72164948] [0.66113265]\n",
      "[0.28092784] [0.44880271]\n",
      "[0.46907216] [0.44576218]\n",
      "[0.30025773] [0.3981273]\n",
      "[0.29510309] [0.41637045]\n",
      "[0.44587629] [0.46248507]\n",
      "[0.45618557] [0.46400533]\n",
      "[0.42268041] [0.55420755]\n",
      "[0.31958763] [0.43714736]\n",
      "[0.54123711] [0.54761975]\n",
      "[0.77319588] [0.62008557]\n",
      "[0.21778351] [0.46704585]\n",
      "[0.46778351] [0.46805936]\n",
      "[0.46005155] [0.48782277]\n",
      "[0.27190722] [0.43106631]\n",
      "[0.75515464] [0.59728164]\n",
      "[0.66494845] [0.49491732]\n",
      "[0.52706186] [0.44728244]\n",
      "[0.59793814] [0.50302539]\n",
      "[0.21907216] [0.40167458]\n",
      "[0.62242268] [0.53089686]\n",
      "[0.60695876] [0.54305896]\n",
      "[0.28737113] [0.36164101]\n",
      "[0.37628866] [0.35353295]\n",
      "[0.38530928] [0.38849897]\n",
      "[0.37113402] [0.41180966]\n",
      "[0.34793814] [0.3981273]\n",
      "[0.60051546] [0.6606259]\n",
      "[0.28865979] [0.30792508]\n",
      "[0.32731959] [0.40674212]\n",
      "[0.24871134] [0.36518829]\n",
      "[0.32989691] [0.41130291]\n",
      "[0.23582474] [0.35758698]\n",
      "[0.45618557] [0.45539051]\n",
      "[0.43298969] [0.45032297]\n",
      "[0.52963918] [0.46755261]\n",
      "[0.72809278] [0.59930866]\n",
      "[0.33634021] [0.37126934]\n",
      "[0.43041237] [0.45234998]\n",
      "[0.55798969] [0.55623456]\n",
      "[0.66881443] [0.46907287]\n",
      "[0.22164948] [0.40674212]\n",
      "[0.37113402] [0.54559273]\n",
      "[0.65979381] [0.57397096]\n",
      "[0.5257732] [0.42397176]\n",
      "[0.56958763] [0.54711299]\n",
      "[0.69329897] [0.50809293]\n",
      "[0.59278351] [0.58663981]\n",
      "[0.22036082] [0.33072901]\n",
      "[0.3943299] [0.72447691]\n",
      "[0.66752577] [0.5790385]\n",
      "[0.30541237] [0.48022146]\n",
      "[0.61082474] [0.52177529]\n",
      "[0.26417526] [0.37633688]\n",
      "[0.66752577] [0.58968033]\n",
      "[0.37628866] [0.41282317]\n",
      "[0.31056701] [0.39052599]\n",
      "[0.29896907] [0.3859652]\n",
      "[0.3685567] [0.41282317]\n",
      "[0.57731959] [0.66113265]\n",
      "[0.5193299] [0.50809293]\n",
      "[0.58634021] [0.58005201]\n",
      "[0.31701031] [0.44525543]\n",
      "[0.20618557] [0.36924232]\n",
      "[0.35695876] [0.41130291]\n",
      "[0.29896907] [0.33731682]\n",
      "[0.66752577] [0.61957882]\n",
      "[0.60695876] [0.47059313]\n",
      "[0.60309278] [0.5040389]\n",
      "[0.53608247] [0.64491652]\n",
      "[0.41494845] [0.45843103]\n",
      "[0.57345361] [0.57194394]\n",
      "[0.68298969] [0.64745029]\n",
      "[0.25515464] [0.20252024]\n",
      "[0.61726804] [0.50555916]\n",
      "[0.68685567] [0.48224847]\n",
      "[0.28737113] [0.23140522]\n",
      "[0.24484536] [0.39204625]\n",
      "[0.42525773] [0.4168772]\n",
      "[0.18943299] [0.62363285]\n",
      "[0.49226804] [0.53393739]\n",
      "[0.23324742] [0.4037016]\n",
      "[0.52319588] [0.47566067]\n",
      "[0.4806701] [0.4797147]\n",
      "[0.33505155] [0.1731285]\n",
      "[0.45747423] [0.48984978]\n",
      "[0.47036082] [0.50809293]\n",
      "[0.70618557] [0.54356571]\n",
      "[0.57216495] [0.52532257]\n",
      "[0.6056701] [0.52988335]\n",
      "[0.24484536] [0.41434343]\n",
      "[0.58118557] [0.52126854]\n",
      "[0.61984536] [0.53849817]\n",
      "[0.62886598] [0.54761975]\n",
      "[0.59536082] [0.48883628]\n",
      "[0.41494845] [0.4412014]\n",
      "[0.47551546] [0.44677569]\n",
      "[0.65850515] [0.60285594]\n",
      "[0.4007732] [0.49795785]\n",
      "[0.21262887] [0.24660784]\n",
      "[0.20618557] [0.42194474]\n",
      "[0.6443299] [0.56484938]\n",
      "[0.42525773] [0.51164021]\n",
      "[0.3685567] [0.33630331]\n",
      "[0.47680412] [0.46197831]\n",
      "[0.5064433] [0.51822801]\n",
      "[0.52835052] [0.58461279]\n",
      "[0.31958763] [0.27549282]\n",
      "[0.3621134] [0.26789151]\n",
      "[0.65206186] [0.516201]\n",
      "[0.54381443] [0.63123416]\n",
      "[0.52835052] [0.47768769]\n",
      "[0.3492268] [0.52988335]\n",
      "[0.31572165] [0.68900413]\n",
      "[0.4007732] [0.44880271]\n",
      "[0.41752577] [0.42954605]\n",
      "[0.57603093] [0.50201188]\n",
      "[0.5] [0.4787012]\n",
      "[0.2564433] [0.4037016]\n",
      "[0.23324742] [0.26637125]\n",
      "[0.54381443] [0.43765412]\n",
      "[0.63402062] [0.5790385]\n",
      "[0.38917526] [0.38849897]\n",
      "[0.58505155] [0.4984646]\n",
      "[0.59149485] [0.48984978]\n",
      "[0.36984536] [0.42954605]\n",
      "[0.71134021] [0.53241712]\n",
      "[0.68556701] [0.57447771]\n",
      "[0.71262887] [0.57498446]\n",
      "[0.41237113] [0.4609648]\n",
      "[0.6056701] [0.5977884]\n",
      "[0.53479381] [0.60741672]\n",
      "[0.53221649] [0.5293766]\n",
      "[0.56314433] [0.54964676]\n",
      "[0.46391753] [0.48934303]\n",
      "[0.46649485] [0.47718093]\n",
      "[0.2564433] [0.33275603]\n",
      "[0.54896907] [0.52785634]\n",
      "[0.26417526] [0.25015512]\n",
      "[0.47036082] [0.4797147]\n",
      "[0.38659794] [0.40674212]\n",
      "[0.40463918] [0.41383668]\n",
      "[0.32860825] [0.34593163]\n",
      "[0.36984536] [0.38089766]\n",
      "[0.36597938] [0.47059313]\n",
      "[0.23195876] [0.35758698]\n",
      "[0.22551546] [0.32160744]\n",
      "[0.46649485] [0.44474867]\n",
      "[0.48324742] [0.44677569]\n",
      "[0.3556701] [0.42802579]\n",
      "[0.45618557] [0.4787012]\n",
      "[0.29252577] [0.36518829]\n",
      "[0.65721649] [0.51164021]\n",
      "[0.44201031] [0.48630251]\n",
      "[0.5] [0.38799222]\n",
      "[0.27835052] [0.1731285]\n",
      "[0.64175258] [0.50302539]\n",
      "[0.40463918] [0.43410684]\n",
      "[0.39175258] [0.44677569]\n",
      "[0.2693299] [0.26637125]\n",
      "[0.41494845] [0.48630251]\n",
      "[0.28994845] [0.34035734]\n",
      "[0.49613402] [0.45741753]\n",
      "[0.28221649] [0.39305976]\n",
      "[0.29639175] [0.37785714]\n",
      "[0.53994845] [0.48579575]\n",
      "[0.68685567] [0.4918768]\n",
      "[0.48195876] [0.45792428]\n",
      "[0.5064433] [0.46805936]\n",
      "[0.21520619] [0.37887065]\n",
      "[0.26030928] [0.37430986]\n",
      "[0.6314433] [0.66113265]\n",
      "[0.55927835] [0.4918768]\n",
      "[0.43041237] [0.45234998]\n",
      "[0.27835052] [0.44474867]\n",
      "[0.31701031] [0.48832952]\n",
      "[0.55541237] [0.50049162]\n",
      "[0.72938144] [0.58005201]\n",
      "[0.44716495] [0.59576138]\n",
      "[0.58891753] [0.48680926]\n",
      "[0.49613402] [0.48680926]\n",
      "[0.64948454] [0.53089686]\n",
      "[0.67139175] [0.51873477]\n",
      "[0.10438144] [0.44626894]\n",
      "[0.40592784] [0.43714736]\n",
      "[0.46262887] [0.48984978]\n",
      "[0.78608247] [0.53647116]\n",
      "[0.26030928] [0.3662018]\n",
      "[0.2564433] [0.43816087]\n",
      "[0.21907216] [0.45488376]\n",
      "[0.15463918] [0.43258658]\n",
      "[0.66752577] [0.53495089]\n",
      "[0.31185567] [0.40167458]\n",
      "[0.32216495] [0.39204625]\n",
      "[0.52061856] [0.48782277]\n",
      "[0.36726804] [0.44829595]\n",
      "[0.35180412] [0.38900573]\n",
      "[0.45876289] [0.46349857]\n",
      "[0.53737113] [0.46400533]\n",
      "[0.33891753] [0.38647196]\n",
      "[0.41494845] [0.40927589]\n",
      "[0.375] [0.39914081]\n",
      "[0.49871134] [0.47414041]\n",
      "[0.32216495] [0.38343143]\n",
      "[0.39561856] [0.40623537]\n",
      "[0.62371134] [0.54711299]\n",
      "[0.36469072] [0.42650553]\n",
      "[0.44458763] [0.45893779]\n",
      "[0.28865979] [0.39204625]\n",
      "[0.40592784] [0.29728325]\n",
      "[0.37886598] [0.4168772]\n",
      "[0.67912371] [0.52126854]\n",
      "[0.55412371] [0.4787012]\n",
      "[0.34020619] [0.50099837]\n",
      "[0.42912371] [0.46907287]\n",
      "[0.3621134] [0.44018789]\n",
      "[0.35695876] [0.40522186]\n",
      "[0.17396907] [0.39508678]\n",
      "[0.2757732] [0.32211419]\n",
      "[0.21649485] [0.25674292]\n",
      "[0.43556701] [0.61299102]\n",
      "[0.40463918] [0.45184323]\n",
      "[0.32474227] [0.6550516]\n",
      "[0.28092784] [0.29728325]\n",
      "[0.53608247] [0.55319404]\n",
      "[0.27963918] [0.33731682]\n",
      "[0.32087629] [0.38849897]\n",
      "[0.50128866] [0.50606591]\n",
      "[0.43427835] [0.43613386]\n",
      "[0.28608247] [0.30589807]\n",
      "[0.52061856] [0.46957962]\n",
      "[0.44974227] [0.45792428]\n",
      "[0.28350515] [0.485289]\n",
      "[0.41881443] [0.47566067]\n",
      "[0.46262887] [0.4665391]\n",
      "[0.31314433] [0.3606275]\n",
      "[0.28350515] [0.37532337]\n",
      "[0.30412371] [0.38393819]\n",
      "[0.35051546] [0.40674212]\n",
      "[0.28479381] [0.3474519]\n",
      "[0.26030928] [0.43866763]\n",
      "[0.46134021] [0.43207982]\n",
      "[0.55283505] [0.36113426]\n",
      "[0.45360825] [0.44677569]\n",
      "[0.63402062] [0.52380231]\n",
      "[0.31829897] [0.36569504]\n",
      "[0.39304124] [0.44626894]\n",
      "[0.33634021] [0.4102894]\n",
      "[0.30025773] [0.40927589]\n",
      "[0.65335052] [0.57093043]\n",
      "[0.62886598] [0.55066027]\n",
      "[0.4806701] [0.43613386]\n",
      "[0.32860825] [0.35353295]\n",
      "[0.41237113] [0.47414041]\n",
      "[0.5193299] [0.4847474]\n",
      "[0.60051546] [0.4847474]\n",
      "[0.69716495] [0.4847474]\n",
      "[0.7242268] [0.4847474]\n",
      "[0.70360825] [0.4847474]\n",
      "[0.63015464] [0.4847474]\n",
      "[0.58634021] [0.4847474]\n"
     ]
    },
    {
     "ename": "IndexError",
     "evalue": "index 304 is out of bounds for axis 0 with size 304",
     "output_type": "error",
     "traceback": [
      "\u001b[1;31m---------------------------------------------------------------------------\u001b[0m",
      "\u001b[1;31mIndexError\u001b[0m                                Traceback (most recent call last)",
      "\u001b[1;32m<ipython-input-117-84e2a191f3bd>\u001b[0m in \u001b[0;36m<module>\u001b[1;34m\u001b[0m\n\u001b[0;32m      1\u001b[0m \u001b[0my_predicted\u001b[0m \u001b[1;33m=\u001b[0m \u001b[0mregress\u001b[0m\u001b[1;33m.\u001b[0m\u001b[0mpredict\u001b[0m\u001b[1;33m(\u001b[0m\u001b[0mtest_x\u001b[0m\u001b[1;33m)\u001b[0m\u001b[1;33m\u001b[0m\u001b[1;33m\u001b[0m\u001b[0m\n\u001b[0;32m      2\u001b[0m \u001b[1;32mfor\u001b[0m \u001b[0mi\u001b[0m \u001b[1;32min\u001b[0m \u001b[0mrange\u001b[0m\u001b[1;33m(\u001b[0m\u001b[1;36m0\u001b[0m\u001b[1;33m,\u001b[0m\u001b[0mlen\u001b[0m\u001b[1;33m(\u001b[0m\u001b[0mtrain_x\u001b[0m\u001b[1;33m)\u001b[0m\u001b[1;33m)\u001b[0m\u001b[1;33m:\u001b[0m\u001b[1;33m\u001b[0m\u001b[1;33m\u001b[0m\u001b[0m\n\u001b[1;32m----> 3\u001b[1;33m     \u001b[0mprint\u001b[0m\u001b[1;33m(\u001b[0m\u001b[0mactual_y\u001b[0m\u001b[1;33m[\u001b[0m\u001b[0mi\u001b[0m\u001b[1;33m]\u001b[0m\u001b[1;33m,\u001b[0m\u001b[0my_predicted\u001b[0m\u001b[1;33m[\u001b[0m\u001b[0mi\u001b[0m\u001b[1;33m]\u001b[0m\u001b[1;33m)\u001b[0m\u001b[1;33m\u001b[0m\u001b[1;33m\u001b[0m\u001b[0m\n\u001b[0m\u001b[0;32m      4\u001b[0m \u001b[0mdatafile\u001b[0m\u001b[1;33m[\u001b[0m\u001b[1;34m'Predicted'\u001b[0m\u001b[1;33m]\u001b[0m \u001b[1;33m=\u001b[0m \u001b[0my_predicted\u001b[0m\u001b[1;33m\u001b[0m\u001b[1;33m\u001b[0m\u001b[0m\n",
      "\u001b[1;31mIndexError\u001b[0m: index 304 is out of bounds for axis 0 with size 304"
     ]
    }
   ],
   "source": [
    "y_predicted = regress.predict(test_x)\n",
    "for i in range(0,len(train_x)):\n",
    "    print(actual_y[i],y_predicted[i])\n",
    "datafile['Predicted'] = y_predicted\n"
   ]
  },
  {
   "cell_type": "markdown",
   "metadata": {},
   "source": [
    "### 17. Calculate MAE, MSE and r2. "
   ]
  },
  {
   "cell_type": "code",
   "execution_count": 120,
   "metadata": {},
   "outputs": [
    {
     "name": "stdout",
     "output_type": "stream",
     "text": [
      "Mean Absolute Error: 0.08572533990816072\n",
      "Mean Squared Error: 0.012476627710948237\n",
      "R2-score: 0.470395246377073\n"
     ]
    }
   ],
   "source": [
    "from sklearn import metrics\n",
    "print('Mean Absolute Error:', metrics.mean_absolute_error(actual_y, y_predicted))\n",
    "print('Mean Squared Error:', metrics.mean_squared_error(actual_y, y_predicted))\n",
    "print(\"R2-score:\" , r2_score(actual_y, y_predicted) )"
   ]
  },
  {
   "cell_type": "markdown",
   "metadata": {},
   "source": [
    "### What do you infer from the scores?\n",
    "##### Ans. We infer that the MAE value and MSE value is quite acceptable, the R-squared value is moderately good but attention should be given to the fact that it is not necessary that a model with higher R-squared value would perform always better than a model with a lower R-squared value. ~50 is quite a good fit for our simple model. "
   ]
  },
  {
   "cell_type": "markdown",
   "metadata": {},
   "source": [
    "### 18. Perform cross – validation with 2, 3, 4 and till 14 folds with r2 as the metric"
   ]
  },
  {
   "cell_type": "code",
   "execution_count": 141,
   "metadata": {},
   "outputs": [
    {
     "name": "stdout",
     "output_type": "stream",
     "text": [
      "0.40108660871099056\n"
     ]
    }
   ],
   "source": [
    "from sklearn.model_selection import cross_val_score\n",
    "accuracy = cross_val_score(regress, DS[['LogKOW']], DS[['logBCF']], cv = 2,scoring='r2')\n",
    "x0=accuracy.mean()\n",
    "print(x0)"
   ]
  },
  {
   "cell_type": "code",
   "execution_count": 130,
   "metadata": {},
   "outputs": [
    {
     "name": "stdout",
     "output_type": "stream",
     "text": [
      "0.39393355502389227\n"
     ]
    }
   ],
   "source": [
    "from sklearn.model_selection import cross_val_score\n",
    "accuracy = cross_val_score(regress, DS[['LogKOW']], DS[['logBCF']], cv = 3,scoring='r2')\n",
    "x1=accuracy.mean()\n",
    "print(x1)"
   ]
  },
  {
   "cell_type": "code",
   "execution_count": 151,
   "metadata": {},
   "outputs": [
    {
     "name": "stdout",
     "output_type": "stream",
     "text": [
      "0.35577178930235664\n"
     ]
    }
   ],
   "source": [
    "from sklearn.model_selection import cross_val_score\n",
    "accuracy = cross_val_score(regress, DS[['LogKOW']], DS[['logBCF']], cv = 4,scoring='r2')\n",
    "x2=accuracy.mean()\n",
    "print(x2)"
   ]
  },
  {
   "cell_type": "code",
   "execution_count": 162,
   "metadata": {},
   "outputs": [
    {
     "name": "stdout",
     "output_type": "stream",
     "text": [
      "0.3614300932595036\n"
     ]
    }
   ],
   "source": [
    "from sklearn.model_selection import cross_val_score\n",
    "accuracy = cross_val_score(regress, DS[['LogKOW']], DS[['logBCF']], cv = 14,scoring='r2')\n",
    "x3=accuracy.mean()\n",
    "print(x3)"
   ]
  },
  {
   "cell_type": "markdown",
   "metadata": {},
   "source": [
    "### 19. Perform thorough analysis on this.\n",
    "#### Ans. The basic idea is that lower K is usually cheaper and more biased. Larger K is more expensive (unless you can cleverly build it into your fitting process), less biased, but can suffer from large variability. This is often cited with the conclusion to use k=10. Specifically in our case, the more the value of cv (K) we keep the mean value of all the validations reduces. \n",
    "\n",
    "####  K-fold cross validation is about estimating the accuracy, not impoving the accuracy. Most implementations of k fold CV give us an estimate of how accurately they are measuring our accuracy."
   ]
  },
  {
   "cell_type": "markdown",
   "metadata": {},
   "source": [
    "### 20. Graph to show the relationship between \"folds\" and \"estimation of accuracy\""
   ]
  },
  {
   "cell_type": "code",
   "execution_count": 30,
   "metadata": {},
   "outputs": [
    {
     "data": {
      "image/png": "[encoded data removed]",
      "text/plain": [
       "<Figure size 432x288 with 1 Axes>"
      ]
     },
     "metadata": {
      "needs_background": "light"
     },
     "output_type": "display_data"
    }
   ],
   "source": [
    "\n",
    "X=[x0,x1,x2,x3]\n",
    "K=[2,3,4,14]\n",
    "\n",
    "plt.scatter(K,X,alpha=0.5,linewidth=20)\n",
    "plt.plot(K,X,linestyle='dashed',color='green',linewidth=5)\n",
    "plt.xlabel(\"no. of folds\")\n",
    "plt.ylabel(\"mean estimation of accuracy\")\n",
    "plt.title(\"Folds VS estimation of accuracy\")\n",
    "plt.legend(['mean estimation of accuracy line'])\n",
    "plt.show()\n"
   ]
  },
  {
   "cell_type": "code",
   "execution_count": null,
   "metadata": {},
   "outputs": [],
   "source": []
  }
 ],
 "metadata": {
  "kernelspec": {
   "display_name": "Python 3",
   "language": "python",
   "name": "python3"
  },
  "language_info": {
   "codemirror_mode": {
    "name": "ipython",
    "version": 3
   },
   "file_extension": ".py",
   "mimetype": "text/x-python",
   "name": "python",
   "nbconvert_exporter": "python",
   "pygments_lexer": "ipython3",
   "version": "3.7.6"
  }
 },
 "nbformat": 4,
 "nbformat_minor": 4
}
